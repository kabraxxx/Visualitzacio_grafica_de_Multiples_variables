{
 "cells": [
  {
   "cell_type": "markdown",
   "id": "1b21d648",
   "metadata": {},
   "source": [
    "# S03 T02: Visualització gràfica de Múltiples variables #"
   ]
  },
  {
   "cell_type": "markdown",
   "id": "90e91011",
   "metadata": {},
   "source": [
    "Anem a practicar i a familiaritzar-nos amb la Visualització gràfica de Múltiples variables."
   ]
  },
  {
   "cell_type": "markdown",
   "id": "283d62fc",
   "metadata": {},
   "source": [
    "## Nivell 1 ##"
   ]
  },
  {
   "cell_type": "markdown",
   "id": "a9a71df5",
   "metadata": {},
   "source": [
    "### - Exercici 1 ###"
   ]
  },
  {
   "cell_type": "markdown",
   "id": "cdca99bc",
   "metadata": {},
   "source": [
    "Realitza la pràctica del notebook a GitHub \"03 EXAMINING DATA\" amb seaborn i el dataset \"tips\"."
   ]
  },
  {
   "cell_type": "markdown",
   "id": "8fab5c29",
   "metadata": {},
   "source": [
    "Scatter Plots o Gráficos de Puntos pueden ser muy utiles para examinar las relationes existentes entre dos series de datos uni-dimensionales.\n",
    "\n",
    "Usaremos el dataset tips, selecionaremos unas cuantas variables."
   ]
  },
  {
   "cell_type": "code",
   "execution_count": 5,
   "id": "e7f5483b",
   "metadata": {},
   "outputs": [
    {
     "data": {
      "text/html": [
       "<div>\n",
       "<style scoped>\n",
       "    .dataframe tbody tr th:only-of-type {\n",
       "        vertical-align: middle;\n",
       "    }\n",
       "\n",
       "    .dataframe tbody tr th {\n",
       "        vertical-align: top;\n",
       "    }\n",
       "\n",
       "    .dataframe thead th {\n",
       "        text-align: right;\n",
       "    }\n",
       "</style>\n",
       "<table border=\"1\" class=\"dataframe\">\n",
       "  <thead>\n",
       "    <tr style=\"text-align: right;\">\n",
       "      <th></th>\n",
       "      <th>total_bill</th>\n",
       "      <th>tip</th>\n",
       "      <th>sex</th>\n",
       "      <th>smoker</th>\n",
       "      <th>day</th>\n",
       "      <th>time</th>\n",
       "      <th>size</th>\n",
       "    </tr>\n",
       "  </thead>\n",
       "  <tbody>\n",
       "    <tr>\n",
       "      <th>0</th>\n",
       "      <td>16.99</td>\n",
       "      <td>1.01</td>\n",
       "      <td>Female</td>\n",
       "      <td>No</td>\n",
       "      <td>Sun</td>\n",
       "      <td>Dinner</td>\n",
       "      <td>2</td>\n",
       "    </tr>\n",
       "    <tr>\n",
       "      <th>1</th>\n",
       "      <td>10.34</td>\n",
       "      <td>1.66</td>\n",
       "      <td>Male</td>\n",
       "      <td>No</td>\n",
       "      <td>Sun</td>\n",
       "      <td>Dinner</td>\n",
       "      <td>3</td>\n",
       "    </tr>\n",
       "    <tr>\n",
       "      <th>2</th>\n",
       "      <td>21.01</td>\n",
       "      <td>3.50</td>\n",
       "      <td>Male</td>\n",
       "      <td>No</td>\n",
       "      <td>Sun</td>\n",
       "      <td>Dinner</td>\n",
       "      <td>3</td>\n",
       "    </tr>\n",
       "    <tr>\n",
       "      <th>3</th>\n",
       "      <td>23.68</td>\n",
       "      <td>3.31</td>\n",
       "      <td>Male</td>\n",
       "      <td>No</td>\n",
       "      <td>Sun</td>\n",
       "      <td>Dinner</td>\n",
       "      <td>2</td>\n",
       "    </tr>\n",
       "    <tr>\n",
       "      <th>4</th>\n",
       "      <td>24.59</td>\n",
       "      <td>3.61</td>\n",
       "      <td>Female</td>\n",
       "      <td>No</td>\n",
       "      <td>Sun</td>\n",
       "      <td>Dinner</td>\n",
       "      <td>4</td>\n",
       "    </tr>\n",
       "  </tbody>\n",
       "</table>\n",
       "</div>"
      ],
      "text/plain": [
       "   total_bill   tip     sex smoker  day    time  size\n",
       "0       16.99  1.01  Female     No  Sun  Dinner     2\n",
       "1       10.34  1.66    Male     No  Sun  Dinner     3\n",
       "2       21.01  3.50    Male     No  Sun  Dinner     3\n",
       "3       23.68  3.31    Male     No  Sun  Dinner     2\n",
       "4       24.59  3.61  Female     No  Sun  Dinner     4"
      ]
     },
     "execution_count": 5,
     "metadata": {},
     "output_type": "execute_result"
    }
   ],
   "source": [
    "# importing libraries\n",
    "import numpy as np\n",
    "import pandas as pd\n",
    "import matplotlib.pyplot as plt\n",
    "import seaborn as sns\n",
    "import warnings\n",
    "\n",
    "warnings.filterwarnings('ignore')\n",
    "\n",
    "tips = pd.read_csv('Examining-Data/tips.csv', sep = ',', encoding = 'utf-8')\n",
    "tips.dataframeName = 'tips.csv'\n",
    "tips.head()"
   ]
  },
  {
   "cell_type": "code",
   "execution_count": 6,
   "id": "fd0f8454",
   "metadata": {},
   "outputs": [
    {
     "data": {
      "text/plain": [
       "(244, 7)"
      ]
     },
     "execution_count": 6,
     "metadata": {},
     "output_type": "execute_result"
    }
   ],
   "source": [
    "tips.shape"
   ]
  },
  {
   "cell_type": "code",
   "execution_count": 7,
   "id": "66059461",
   "metadata": {},
   "outputs": [
    {
     "data": {
      "text/plain": [
       "2"
      ]
     },
     "execution_count": 7,
     "metadata": {},
     "output_type": "execute_result"
    }
   ],
   "source": [
    "tips.ndim"
   ]
  },
  {
   "cell_type": "code",
   "execution_count": 8,
   "id": "544d52a8",
   "metadata": {},
   "outputs": [
    {
     "data": {
      "text/plain": [
       "Index(['total_bill', 'tip', 'sex', 'smoker', 'day', 'time', 'size'], dtype='object')"
      ]
     },
     "execution_count": 8,
     "metadata": {},
     "output_type": "execute_result"
    }
   ],
   "source": [
    "tips.columns"
   ]
  },
  {
   "cell_type": "code",
   "execution_count": 9,
   "id": "9a772d23",
   "metadata": {},
   "outputs": [
    {
     "data": {
      "text/plain": [
       "total_bill    float64\n",
       "tip           float64\n",
       "sex            object\n",
       "smoker         object\n",
       "day            object\n",
       "time           object\n",
       "size            int64\n",
       "dtype: object"
      ]
     },
     "execution_count": 9,
     "metadata": {},
     "output_type": "execute_result"
    }
   ],
   "source": [
    "tips.dtypes"
   ]
  },
  {
   "cell_type": "code",
   "execution_count": 10,
   "id": "20ac066f",
   "metadata": {},
   "outputs": [
    {
     "data": {
      "text/html": [
       "<div>\n",
       "<style scoped>\n",
       "    .dataframe tbody tr th:only-of-type {\n",
       "        vertical-align: middle;\n",
       "    }\n",
       "\n",
       "    .dataframe tbody tr th {\n",
       "        vertical-align: top;\n",
       "    }\n",
       "\n",
       "    .dataframe thead th {\n",
       "        text-align: right;\n",
       "    }\n",
       "</style>\n",
       "<table border=\"1\" class=\"dataframe\">\n",
       "  <thead>\n",
       "    <tr style=\"text-align: right;\">\n",
       "      <th></th>\n",
       "      <th>total_bill</th>\n",
       "      <th>tip</th>\n",
       "      <th>sex</th>\n",
       "      <th>smoker</th>\n",
       "      <th>day</th>\n",
       "      <th>time</th>\n",
       "      <th>size</th>\n",
       "      <th>tip_pct</th>\n",
       "    </tr>\n",
       "  </thead>\n",
       "  <tbody>\n",
       "    <tr>\n",
       "      <th>0</th>\n",
       "      <td>16.99</td>\n",
       "      <td>1.01</td>\n",
       "      <td>Female</td>\n",
       "      <td>No</td>\n",
       "      <td>Sun</td>\n",
       "      <td>Dinner</td>\n",
       "      <td>2</td>\n",
       "      <td>6.32</td>\n",
       "    </tr>\n",
       "    <tr>\n",
       "      <th>1</th>\n",
       "      <td>10.34</td>\n",
       "      <td>1.66</td>\n",
       "      <td>Male</td>\n",
       "      <td>No</td>\n",
       "      <td>Sun</td>\n",
       "      <td>Dinner</td>\n",
       "      <td>3</td>\n",
       "      <td>19.12</td>\n",
       "    </tr>\n",
       "    <tr>\n",
       "      <th>2</th>\n",
       "      <td>21.01</td>\n",
       "      <td>3.50</td>\n",
       "      <td>Male</td>\n",
       "      <td>No</td>\n",
       "      <td>Sun</td>\n",
       "      <td>Dinner</td>\n",
       "      <td>3</td>\n",
       "      <td>19.99</td>\n",
       "    </tr>\n",
       "    <tr>\n",
       "      <th>3</th>\n",
       "      <td>23.68</td>\n",
       "      <td>3.31</td>\n",
       "      <td>Male</td>\n",
       "      <td>No</td>\n",
       "      <td>Sun</td>\n",
       "      <td>Dinner</td>\n",
       "      <td>2</td>\n",
       "      <td>16.25</td>\n",
       "    </tr>\n",
       "    <tr>\n",
       "      <th>4</th>\n",
       "      <td>24.59</td>\n",
       "      <td>3.61</td>\n",
       "      <td>Female</td>\n",
       "      <td>No</td>\n",
       "      <td>Sun</td>\n",
       "      <td>Dinner</td>\n",
       "      <td>4</td>\n",
       "      <td>17.21</td>\n",
       "    </tr>\n",
       "  </tbody>\n",
       "</table>\n",
       "</div>"
      ],
      "text/plain": [
       "   total_bill   tip     sex smoker  day    time  size  tip_pct\n",
       "0       16.99  1.01  Female     No  Sun  Dinner     2     6.32\n",
       "1       10.34  1.66    Male     No  Sun  Dinner     3    19.12\n",
       "2       21.01  3.50    Male     No  Sun  Dinner     3    19.99\n",
       "3       23.68  3.31    Male     No  Sun  Dinner     2    16.25\n",
       "4       24.59  3.61  Female     No  Sun  Dinner     4    17.21"
      ]
     },
     "execution_count": 10,
     "metadata": {},
     "output_type": "execute_result"
    }
   ],
   "source": [
    "tips['tip_pct'] = round((tips['tip'] / (tips['total_bill'] - tips['tip']))*100, 2)\n",
    "tips.head()"
   ]
  },
  {
   "cell_type": "code",
   "execution_count": 11,
   "id": "67fcdfee",
   "metadata": {},
   "outputs": [
    {
     "data": {
      "image/png": "[encoded data removed]",
      "text/plain": [
       "<Figure size 432x288 with 1 Axes>"
      ]
     },
     "metadata": {
      "needs_background": "light"
     },
     "output_type": "display_data"
    }
   ],
   "source": [
    "sns.barplot(x='tip_pct', y='day', data=tips, orient=\"h\")\n",
    "plt.show()"
   ]
  },
  {
   "cell_type": "code",
   "execution_count": 12,
   "id": "2d592b9a",
   "metadata": {},
   "outputs": [
    {
     "data": {
      "image/png": "[encoded data removed]",
      "text/plain": [
       "<Figure size 432x288 with 1 Axes>"
      ]
     },
     "metadata": {
      "needs_background": "light"
     },
     "output_type": "display_data"
    }
   ],
   "source": [
    "sns.barplot(x='tip_pct', y='day', hue='time', data=tips, orient='h')\n",
    "plt.show()\n",
    "sns.set(style=\"darkgrid\")"
   ]
  },
  {
   "cell_type": "code",
   "execution_count": 13,
   "id": "a2b0ecf4",
   "metadata": {},
   "outputs": [
    {
     "data": {
      "text/html": [
       "<div>\n",
       "<style scoped>\n",
       "    .dataframe tbody tr th:only-of-type {\n",
       "        vertical-align: middle;\n",
       "    }\n",
       "\n",
       "    .dataframe tbody tr th {\n",
       "        vertical-align: top;\n",
       "    }\n",
       "\n",
       "    .dataframe thead th {\n",
       "        text-align: right;\n",
       "    }\n",
       "</style>\n",
       "<table border=\"1\" class=\"dataframe\">\n",
       "  <thead>\n",
       "    <tr style=\"text-align: right;\">\n",
       "      <th></th>\n",
       "      <th>total_bill</th>\n",
       "      <th>tip</th>\n",
       "      <th>size</th>\n",
       "      <th>tip_pct</th>\n",
       "    </tr>\n",
       "  </thead>\n",
       "  <tbody>\n",
       "    <tr>\n",
       "      <th>count</th>\n",
       "      <td>244.000000</td>\n",
       "      <td>244.000000</td>\n",
       "      <td>244.000000</td>\n",
       "      <td>244.000000</td>\n",
       "    </tr>\n",
       "    <tr>\n",
       "      <th>mean</th>\n",
       "      <td>19.785943</td>\n",
       "      <td>2.998279</td>\n",
       "      <td>2.569672</td>\n",
       "      <td>20.212418</td>\n",
       "    </tr>\n",
       "    <tr>\n",
       "      <th>std</th>\n",
       "      <td>8.902412</td>\n",
       "      <td>1.383638</td>\n",
       "      <td>0.951100</td>\n",
       "      <td>16.338588</td>\n",
       "    </tr>\n",
       "    <tr>\n",
       "      <th>min</th>\n",
       "      <td>3.070000</td>\n",
       "      <td>1.000000</td>\n",
       "      <td>1.000000</td>\n",
       "      <td>3.700000</td>\n",
       "    </tr>\n",
       "    <tr>\n",
       "      <th>25%</th>\n",
       "      <td>13.347500</td>\n",
       "      <td>2.000000</td>\n",
       "      <td>2.000000</td>\n",
       "      <td>14.830000</td>\n",
       "    </tr>\n",
       "    <tr>\n",
       "      <th>50%</th>\n",
       "      <td>17.795000</td>\n",
       "      <td>2.900000</td>\n",
       "      <td>2.000000</td>\n",
       "      <td>18.310000</td>\n",
       "    </tr>\n",
       "    <tr>\n",
       "      <th>75%</th>\n",
       "      <td>24.127500</td>\n",
       "      <td>3.562500</td>\n",
       "      <td>3.000000</td>\n",
       "      <td>23.682500</td>\n",
       "    </tr>\n",
       "    <tr>\n",
       "      <th>max</th>\n",
       "      <td>50.810000</td>\n",
       "      <td>10.000000</td>\n",
       "      <td>6.000000</td>\n",
       "      <td>245.240000</td>\n",
       "    </tr>\n",
       "  </tbody>\n",
       "</table>\n",
       "</div>"
      ],
      "text/plain": [
       "       total_bill         tip        size     tip_pct\n",
       "count  244.000000  244.000000  244.000000  244.000000\n",
       "mean    19.785943    2.998279    2.569672   20.212418\n",
       "std      8.902412    1.383638    0.951100   16.338588\n",
       "min      3.070000    1.000000    1.000000    3.700000\n",
       "25%     13.347500    2.000000    2.000000   14.830000\n",
       "50%     17.795000    2.900000    2.000000   18.310000\n",
       "75%     24.127500    3.562500    3.000000   23.682500\n",
       "max     50.810000   10.000000    6.000000  245.240000"
      ]
     },
     "execution_count": 13,
     "metadata": {},
     "output_type": "execute_result"
    }
   ],
   "source": [
    "tips.describe()"
   ]
  },
  {
   "cell_type": "code",
   "execution_count": 14,
   "id": "32698dd7",
   "metadata": {},
   "outputs": [
    {
     "data": {
      "text/html": [
       "<div>\n",
       "<style scoped>\n",
       "    .dataframe tbody tr th:only-of-type {\n",
       "        vertical-align: middle;\n",
       "    }\n",
       "\n",
       "    .dataframe tbody tr th {\n",
       "        vertical-align: top;\n",
       "    }\n",
       "\n",
       "    .dataframe thead th {\n",
       "        text-align: right;\n",
       "    }\n",
       "</style>\n",
       "<table border=\"1\" class=\"dataframe\">\n",
       "  <thead>\n",
       "    <tr style=\"text-align: right;\">\n",
       "      <th></th>\n",
       "      <th>total_bill</th>\n",
       "      <th>tip</th>\n",
       "      <th>sex</th>\n",
       "      <th>smoker</th>\n",
       "      <th>day</th>\n",
       "      <th>time</th>\n",
       "      <th>size</th>\n",
       "      <th>tip_pct</th>\n",
       "    </tr>\n",
       "  </thead>\n",
       "  <tbody>\n",
       "    <tr>\n",
       "      <th>count</th>\n",
       "      <td>244.000</td>\n",
       "      <td>244.000</td>\n",
       "      <td>244</td>\n",
       "      <td>244</td>\n",
       "      <td>244</td>\n",
       "      <td>244</td>\n",
       "      <td>244.000</td>\n",
       "      <td>244.000</td>\n",
       "    </tr>\n",
       "    <tr>\n",
       "      <th>unique</th>\n",
       "      <td>NaN</td>\n",
       "      <td>NaN</td>\n",
       "      <td>2</td>\n",
       "      <td>2</td>\n",
       "      <td>4</td>\n",
       "      <td>2</td>\n",
       "      <td>NaN</td>\n",
       "      <td>NaN</td>\n",
       "    </tr>\n",
       "    <tr>\n",
       "      <th>top</th>\n",
       "      <td>NaN</td>\n",
       "      <td>NaN</td>\n",
       "      <td>Male</td>\n",
       "      <td>No</td>\n",
       "      <td>Sat</td>\n",
       "      <td>Dinner</td>\n",
       "      <td>NaN</td>\n",
       "      <td>NaN</td>\n",
       "    </tr>\n",
       "    <tr>\n",
       "      <th>freq</th>\n",
       "      <td>NaN</td>\n",
       "      <td>NaN</td>\n",
       "      <td>157</td>\n",
       "      <td>151</td>\n",
       "      <td>87</td>\n",
       "      <td>176</td>\n",
       "      <td>NaN</td>\n",
       "      <td>NaN</td>\n",
       "    </tr>\n",
       "    <tr>\n",
       "      <th>mean</th>\n",
       "      <td>19.786</td>\n",
       "      <td>2.998</td>\n",
       "      <td>NaN</td>\n",
       "      <td>NaN</td>\n",
       "      <td>NaN</td>\n",
       "      <td>NaN</td>\n",
       "      <td>2.570</td>\n",
       "      <td>20.212</td>\n",
       "    </tr>\n",
       "    <tr>\n",
       "      <th>std</th>\n",
       "      <td>8.902</td>\n",
       "      <td>1.384</td>\n",
       "      <td>NaN</td>\n",
       "      <td>NaN</td>\n",
       "      <td>NaN</td>\n",
       "      <td>NaN</td>\n",
       "      <td>0.951</td>\n",
       "      <td>16.339</td>\n",
       "    </tr>\n",
       "    <tr>\n",
       "      <th>min</th>\n",
       "      <td>3.070</td>\n",
       "      <td>1.000</td>\n",
       "      <td>NaN</td>\n",
       "      <td>NaN</td>\n",
       "      <td>NaN</td>\n",
       "      <td>NaN</td>\n",
       "      <td>1.000</td>\n",
       "      <td>3.700</td>\n",
       "    </tr>\n",
       "    <tr>\n",
       "      <th>25%</th>\n",
       "      <td>13.348</td>\n",
       "      <td>2.000</td>\n",
       "      <td>NaN</td>\n",
       "      <td>NaN</td>\n",
       "      <td>NaN</td>\n",
       "      <td>NaN</td>\n",
       "      <td>2.000</td>\n",
       "      <td>14.830</td>\n",
       "    </tr>\n",
       "    <tr>\n",
       "      <th>50%</th>\n",
       "      <td>17.795</td>\n",
       "      <td>2.900</td>\n",
       "      <td>NaN</td>\n",
       "      <td>NaN</td>\n",
       "      <td>NaN</td>\n",
       "      <td>NaN</td>\n",
       "      <td>2.000</td>\n",
       "      <td>18.310</td>\n",
       "    </tr>\n",
       "    <tr>\n",
       "      <th>75%</th>\n",
       "      <td>24.127</td>\n",
       "      <td>3.562</td>\n",
       "      <td>NaN</td>\n",
       "      <td>NaN</td>\n",
       "      <td>NaN</td>\n",
       "      <td>NaN</td>\n",
       "      <td>3.000</td>\n",
       "      <td>23.682</td>\n",
       "    </tr>\n",
       "    <tr>\n",
       "      <th>max</th>\n",
       "      <td>50.810</td>\n",
       "      <td>10.000</td>\n",
       "      <td>NaN</td>\n",
       "      <td>NaN</td>\n",
       "      <td>NaN</td>\n",
       "      <td>NaN</td>\n",
       "      <td>6.000</td>\n",
       "      <td>245.240</td>\n",
       "    </tr>\n",
       "  </tbody>\n",
       "</table>\n",
       "</div>"
      ],
      "text/plain": [
       "        total_bill      tip   sex smoker  day    time     size  tip_pct\n",
       "count      244.000  244.000   244    244  244     244  244.000  244.000\n",
       "unique         NaN      NaN     2      2    4       2      NaN      NaN\n",
       "top            NaN      NaN  Male     No  Sat  Dinner      NaN      NaN\n",
       "freq           NaN      NaN   157    151   87     176      NaN      NaN\n",
       "mean        19.786    2.998   NaN    NaN  NaN     NaN    2.570   20.212\n",
       "std          8.902    1.384   NaN    NaN  NaN     NaN    0.951   16.339\n",
       "min          3.070    1.000   NaN    NaN  NaN     NaN    1.000    3.700\n",
       "25%         13.348    2.000   NaN    NaN  NaN     NaN    2.000   14.830\n",
       "50%         17.795    2.900   NaN    NaN  NaN     NaN    2.000   18.310\n",
       "75%         24.127    3.562   NaN    NaN  NaN     NaN    3.000   23.682\n",
       "max         50.810   10.000   NaN    NaN  NaN     NaN    6.000  245.240"
      ]
     },
     "execution_count": 14,
     "metadata": {},
     "output_type": "execute_result"
    }
   ],
   "source": [
    "round(tips.describe(include='all'), 3)"
   ]
  },
  {
   "cell_type": "code",
   "execution_count": 15,
   "id": "309aad9e",
   "metadata": {},
   "outputs": [
    {
     "data": {
      "text/plain": [
       "total_bill    0.0\n",
       "tip           0.0\n",
       "sex           0.0\n",
       "smoker        0.0\n",
       "day           0.0\n",
       "time          0.0\n",
       "size          0.0\n",
       "tip_pct       0.0\n",
       "dtype: float64"
      ]
     },
     "execution_count": 15,
     "metadata": {},
     "output_type": "execute_result"
    }
   ],
   "source": [
    "tips.isnull().sum()/len(tips)"
   ]
  },
  {
   "cell_type": "code",
   "execution_count": 16,
   "id": "02305ca9",
   "metadata": {},
   "outputs": [
    {
     "data": {
      "text/plain": [
       "count    244.000\n",
       "mean       2.998\n",
       "std        1.384\n",
       "min        1.000\n",
       "25%        2.000\n",
       "50%        2.900\n",
       "75%        3.562\n",
       "max       10.000\n",
       "Name: tip, dtype: float64"
      ]
     },
     "execution_count": 16,
     "metadata": {},
     "output_type": "execute_result"
    }
   ],
   "source": [
    "round((tips['tip']).describe(), 3)"
   ]
  },
  {
   "cell_type": "markdown",
   "id": "61aaf5a8",
   "metadata": {},
   "source": [
    "<span style=color:red><b><u>EXERCISE - 3.1</u></b></span> \n",
    "\n",
    "Compare both Equations above. \n",
    "\n",
    "* What does $x_1$ correspond to ?,   \n",
    "\n",
    "𝑥1 corresponde al número de caracteres de la primera cuenta de la muestra (16.99, en €)\n",
    "\n",
    "* and **$x_2$** ?   \n",
    "\n",
    "𝑥2 al número de caracteres en el segunda cuenta (10.34, en €)\n",
    "\n",
    "* Can you infer a general meaning to what $x_i$ might represent?\n",
    "\n",
    "𝑥𝑖 corresponde a la cantidad de cuentas totales 𝑖𝑡ℎ en el conjunto de datos.\n",
    "\n",
    "* What was $n$ in this sample of emails?\n",
    "\n",
    "El tamaño de la muestra fue 𝑛 = 244.\n"
   ]
  },
  {
   "cell_type": "code",
   "execution_count": 18,
   "id": "748bd37f",
   "metadata": {},
   "outputs": [
    {
     "data": {
      "text/plain": [
       "19.786"
      ]
     },
     "execution_count": 18,
     "metadata": {},
     "output_type": "execute_result"
    }
   ],
   "source": [
    "tips.total_bill.mean().round(3)"
   ]
  },
  {
   "cell_type": "markdown",
   "id": "4c13a928",
   "metadata": {},
   "source": [
    "<span style=color:red><b><u>EXERCISE - 3.2</u></b></span>\n",
    "\n",
    "The <span style=color:blue>average</span> number of characters across all bill (<span style=color:blue><b>population</b></span>) can be estimated using the <span style=color:blue><b>sample data</b></span>.   \n",
    "\n",
    "Based on the <span style=color:blue>sample</span> of <b>50</b> $bills$, what would be a reasonable estimate of <span style=color:blue><b>$\\mu_x$</b></span>, the <span style=color:blue><b>mean</b></span> number of characters in all bills in the bills dataset? (Recall that $bills50$ is a sample from $bill$.)"
   ]
  },
  {
   "cell_type": "markdown",
   "id": "def8c706",
   "metadata": {},
   "source": [
    "The <span style=color:blue>sample mean</span>, <b>19.786</b>, may provide a reasonable estimate of <span style=color:blue>$\\mu_x$</span>.   \n",
    "\n",
    "While this number will not be perfect, it provides a <span style=color:blue><em><b>point estimate</b></em></span> of the <span style=color:blue>population mean</span>."
   ]
  },
  {
   "cell_type": "code",
   "execution_count": 26,
   "id": "b29e6cac",
   "metadata": {},
   "outputs": [
    {
     "data": {
      "text/plain": [
       "10.883530668093965"
      ]
     },
     "execution_count": 26,
     "metadata": {},
     "output_type": "execute_result"
    }
   ],
   "source": [
    "tips.total_bill.mean()- tips.total_bill.std()"
   ]
  },
  {
   "cell_type": "markdown",
   "id": "06e4092c",
   "metadata": {},
   "source": [
    "### <span style=color:darkred>Variance</span>"
   ]
  },
  {
   "cell_type": "code",
   "execution_count": 21,
   "id": "a780a6ca",
   "metadata": {},
   "outputs": [
    {
     "data": {
      "text/plain": [
       "1    10.34\n",
       "Name: total_bill, dtype: float64"
      ]
     },
     "execution_count": 21,
     "metadata": {},
     "output_type": "execute_result"
    }
   ],
   "source": [
    "tips.total_bill.iloc[[1], ]"
   ]
  },
  {
   "cell_type": "markdown",
   "id": "b7edc79a",
   "metadata": {},
   "source": [
    "### <span style=color:darkred>Standard Deviation</span>"
   ]
  },
  {
   "cell_type": "code",
   "execution_count": 22,
   "id": "52f972dc",
   "metadata": {},
   "outputs": [
    {
     "data": {
      "text/plain": [
       "8.902"
      ]
     },
     "execution_count": 22,
     "metadata": {},
     "output_type": "execute_result"
    }
   ],
   "source": [
    "tips.total_bill.std().round(3)"
   ]
  },
  {
   "cell_type": "markdown",
   "id": "83b8cbe5",
   "metadata": {},
   "source": [
    "<span style=color:red><b><u>EXERCISE - 3.6</u></b></span> \n",
    "\n",
    "A good <span style=color:blue>description of the shape of a distribution</span> should include <span style=color:blue>modality</span> and whether the <span style=color:blue>distribution</span> is <span style=color:blue>symmetric or skewed</span> to one side. \n",
    "\n",
    "Explore the figure as an example, explain why such a description is important :\n",
    "\n",
    "![Std.jpg](attachment:Std.jpg)"
   ]
  },
  {
   "cell_type": "code",
   "execution_count": 30,
   "id": "8a7084ed",
   "metadata": {},
   "outputs": [
    {
     "data": {
      "text/plain": [
       "Text(0.5, 0, '# Bills (in €)')"
      ]
     },
     "execution_count": 30,
     "metadata": {},
     "output_type": "execute_result"
    },
    {
     "data": {
      "image/png": "[encoded data removed]",
      "text/plain": [
       "<Figure size 432x288 with 1 Axes>"
      ]
     },
     "metadata": {},
     "output_type": "display_data"
    }
   ],
   "source": [
    "tips.hist(['total_bill'], bins=15)\n",
    "plt.title('Total bill')\n",
    "plt.ylabel('Frequency')\n",
    "plt.xlabel('# Bills (in €)')"
   ]
  },
  {
   "cell_type": "markdown",
   "id": "14e71446",
   "metadata": {},
   "source": [
    "<span style=color:red><b><u>EXERCISE - 3.7</u></b></span> \n",
    "\n",
    "Describe the <b>distribution</b> of the <b>total_bills</b> variable using the histogram display above. \n",
    "\n",
    "The description should incorporate the center, variability, and shape of the distribution, and it should also be placed in context: the <b>number of characters</b> in emails. Also note any especially <b>unusual cases</b>."
   ]
  },
  {
   "cell_type": "markdown",
   "id": "4637a4cf",
   "metadata": {},
   "source": [
    "<span style=color:green><b><u>SOLUTION - 3.7</u></b></span> \n",
    "\n",
    "The distribution of bill character counts is <b>unimodal</b> and very <b>strongly skewed to the high end</b>. Many of the counts fall near the <b>Mean at 19.786</b>, and most fall within <b>one Standard Deviation (8.902)</b> of the <b>mean</b>. There is <b>one exceptionally long bill</b> with about 65,000 characters."
   ]
  },
  {
   "cell_type": "code",
   "execution_count": 25,
   "id": "6a3b94c4",
   "metadata": {},
   "outputs": [
    {
     "data": {
      "text/plain": [
       "8.9"
      ]
     },
     "execution_count": 25,
     "metadata": {},
     "output_type": "execute_result"
    }
   ],
   "source": [
    "tips.total_bill.std().round(2)"
   ]
  },
  {
   "cell_type": "markdown",
   "id": "9d959fea",
   "metadata": {},
   "source": [
    "## <span style=color:red>Ejercicio Practico -- Scatter Plots</span>"
   ]
  },
  {
   "cell_type": "code",
   "execution_count": 17,
   "id": "4f20386c",
   "metadata": {},
   "outputs": [
    {
     "data": {
      "image/png": "[encoded data removed]",
      "text/plain": [
       "<Figure size 432x288 with 1 Axes>"
      ]
     },
     "metadata": {},
     "output_type": "display_data"
    }
   ],
   "source": [
    "sns.set(style=\"whitegrid\")\n",
    "ax = sns.boxplot(x = tips['tip'], color='lightblue', fliersize=5, orient='v', linewidth=1, width=0.3)"
   ]
  },
  {
   "cell_type": "code",
   "execution_count": 18,
   "id": "618574dc",
   "metadata": {},
   "outputs": [
    {
     "data": {
      "image/png": "[encoded data removed]",
      "text/plain": [
       "<Figure size 432x288 with 1 Axes>"
      ]
     },
     "metadata": {},
     "output_type": "display_data"
    }
   ],
   "source": [
    "ax = sns.boxplot(y=\"tip\", data=tips,  color='lightblue', fliersize=5,  orient='v', linewidth=1 , width=0.3)\n",
    "ax = sns.stripplot(y=tips[\"tip\"], orient='v', color='darkblue', alpha= 0.5)"
   ]
  },
  {
   "cell_type": "markdown",
   "id": "b2671a53",
   "metadata": {},
   "source": [
    "Una Variable: 1 Numérica = 'tip_pct'"
   ]
  },
  {
   "cell_type": "code",
   "execution_count": 19,
   "id": "6ff58668",
   "metadata": {
    "scrolled": true
   },
   "outputs": [
    {
     "data": {
      "text/plain": [
       "total_bill    float64\n",
       "tip           float64\n",
       "sex            object\n",
       "smoker         object\n",
       "day            object\n",
       "time           object\n",
       "size            int64\n",
       "tip_pct       float64\n",
       "dtype: object"
      ]
     },
     "execution_count": 19,
     "metadata": {},
     "output_type": "execute_result"
    }
   ],
   "source": [
    "tips.dtypes"
   ]
  },
  {
   "cell_type": "code",
   "execution_count": 20,
   "id": "95835a11",
   "metadata": {},
   "outputs": [
    {
     "data": {
      "image/png": "[encoded data removed]",
      "text/plain": [
       "<Figure size 432x288 with 1 Axes>"
      ]
     },
     "metadata": {},
     "output_type": "display_data"
    }
   ],
   "source": [
    "sns.boxplot(y=\"tip_pct\", data=tips[tips.tip < 10],  color='lightblue', fliersize=5,  orient='v', linewidth=1 , width=0.3);"
   ]
  },
  {
   "cell_type": "markdown",
   "id": "708ceeba",
   "metadata": {},
   "source": [
    "Dos Variables: 1 Categórica = 'day', 1 Numérica = 'tip_pct'"
   ]
  },
  {
   "cell_type": "code",
   "execution_count": 21,
   "id": "5bb13cb6",
   "metadata": {},
   "outputs": [
    {
     "data": {
      "image/png": "[encoded data removed]",
      "text/plain": [
       "<Figure size 360x360 with 1 Axes>"
      ]
     },
     "metadata": {},
     "output_type": "display_data"
    }
   ],
   "source": [
    "## añadimos variable categorica 'day' en x:\n",
    "ax = sns.catplot(x='day', y='tip_pct', kind='box',\n",
    "                 data=tips[tips.tip_pct < 245]);"
   ]
  },
  {
   "cell_type": "code",
   "execution_count": 22,
   "id": "cb4f758c",
   "metadata": {},
   "outputs": [
    {
     "data": {
      "image/png": "[encoded data removed]",
      "text/plain": [
       "<Figure size 360x360 with 1 Axes>"
      ]
     },
     "metadata": {},
     "output_type": "display_data"
    }
   ],
   "source": [
    "## añadimos variable categorica 'day' en x:\n",
    "ax = sns.catplot(x='day', y='tip_pct', kind='box',\n",
    "                 data=tips[tips.tip_pct < 245]);\n",
    "\n",
    "ax = sns.stripplot(x='day', y='tip_pct', data=tips[tips.tip_pct < 245], orient='v', color='darkblue', alpha= 0.4);"
   ]
  },
  {
   "cell_type": "markdown",
   "id": "43ed0bbc",
   "metadata": {},
   "source": [
    "Tres Variables : 2 Categóricas = ('day', 'time'), 1 Numérica = 'tip_pct'"
   ]
  },
  {
   "cell_type": "code",
   "execution_count": 23,
   "id": "bb531f17",
   "metadata": {},
   "outputs": [
    {
     "data": {
      "image/png": "[encoded data removed]",
      "text/plain": [
       "<Figure size 432x288 with 1 Axes>"
      ]
     },
     "metadata": {},
     "output_type": "display_data"
    }
   ],
   "source": [
    "sns.boxplot(x='day', y='tip_pct', hue='time', \n",
    "               data=tips[tips.tip_pct < 245]);"
   ]
  },
  {
   "cell_type": "code",
   "execution_count": 24,
   "id": "2ab2aa96",
   "metadata": {},
   "outputs": [
    {
     "data": {
      "image/png": "[encoded data removed]",
      "text/plain": [
       "<Figure size 432x288 with 1 Axes>"
      ]
     },
     "metadata": {},
     "output_type": "display_data"
    }
   ],
   "source": [
    "sns.boxplot(x='day', y='tip_pct', hue = 'time',\n",
    "               data=tips[tips.tip_pct < 245]);\n",
    "ax = sns.stripplot(x='day', y='tip_pct', hue='time', data=tips[tips.tip_pct < 245], orient='v', color='darkblue', alpha= 0.4);"
   ]
  },
  {
   "cell_type": "markdown",
   "id": "02b2a249",
   "metadata": {},
   "source": [
    "Facet Grids y Categorical DataFrame"
   ]
  },
  {
   "cell_type": "markdown",
   "id": "c9e8da33",
   "metadata": {},
   "source": [
    "Nos permite profundizar todavía más en el analysis, añadiendo una variable categórica adicional.\n",
    "\n",
    "Usando el método factorplot( ) de \"Facet Grid\" :"
   ]
  },
  {
   "cell_type": "markdown",
   "id": "235aff7f",
   "metadata": {},
   "source": [
    "Cuatro Variables : 3 Categoricas = ('day', 'time', 'smoker'), 1 Numérica = 'tip_pct'"
   ]
  },
  {
   "cell_type": "code",
   "execution_count": 25,
   "id": "0b3e1396",
   "metadata": {},
   "outputs": [
    {
     "data": {
      "image/png": "[encoded data removed]",
      "text/plain": [
       "<Figure size 792.225x360 with 2 Axes>"
      ]
     },
     "metadata": {},
     "output_type": "display_data"
    }
   ],
   "source": [
    "sns.catplot(x='day', y='tip_pct', hue='time', col='smoker',\n",
    "               kind='box', data=tips[tips.tip_pct < 245]);"
   ]
  },
  {
   "cell_type": "code",
   "execution_count": 26,
   "id": "d0d7632f",
   "metadata": {},
   "outputs": [
    {
     "data": {
      "image/png": "[encoded data removed]",
      "text/plain": [
       "<Figure size 792.225x360 with 2 Axes>"
      ]
     },
     "metadata": {},
     "output_type": "display_data"
    }
   ],
   "source": [
    "sns.catplot(x='day', y='tip_pct', hue='time', col='smoker',\n",
    "               kind='box', data=tips[tips.tip_pct < 245]);"
   ]
  },
  {
   "cell_type": "markdown",
   "id": "7b8e0eaf",
   "metadata": {},
   "source": [
    "## Nivell 2 ##"
   ]
  },
  {
   "cell_type": "markdown",
   "id": "cf832abb",
   "metadata": {},
   "source": [
    "### - Exercici 2 ###"
   ]
  },
  {
   "cell_type": "markdown",
   "id": "807d615c",
   "metadata": {},
   "source": [
    "Repeteix l'exercici 1 amb el dataset que disposem en el repositori de GitHub PRE-PROCESSING-DATA, movies.dat"
   ]
  },
  {
   "cell_type": "code",
   "execution_count": 70,
   "id": "3f244cd8",
   "metadata": {},
   "outputs": [
    {
     "data": {
      "text/html": [
       "<div>\n",
       "<style scoped>\n",
       "    .dataframe tbody tr th:only-of-type {\n",
       "        vertical-align: middle;\n",
       "    }\n",
       "\n",
       "    .dataframe tbody tr th {\n",
       "        vertical-align: top;\n",
       "    }\n",
       "\n",
       "    .dataframe thead th {\n",
       "        text-align: right;\n",
       "    }\n",
       "</style>\n",
       "<table border=\"1\" class=\"dataframe\">\n",
       "  <thead>\n",
       "    <tr style=\"text-align: right;\">\n",
       "      <th></th>\n",
       "      <th>TitleYear</th>\n",
       "      <th>Genre1</th>\n",
       "      <th>Genre2</th>\n",
       "      <th>Genre3</th>\n",
       "      <th>Genre4</th>\n",
       "    </tr>\n",
       "  </thead>\n",
       "  <tbody>\n",
       "    <tr>\n",
       "      <th>1</th>\n",
       "      <td>Toy Story (1995)</td>\n",
       "      <td>Animation</td>\n",
       "      <td>Children's</td>\n",
       "      <td>Comedy</td>\n",
       "      <td>None</td>\n",
       "    </tr>\n",
       "    <tr>\n",
       "      <th>2</th>\n",
       "      <td>Jumanji (1995)</td>\n",
       "      <td>Adventure</td>\n",
       "      <td>Children's</td>\n",
       "      <td>Fantasy</td>\n",
       "      <td>None</td>\n",
       "    </tr>\n",
       "    <tr>\n",
       "      <th>3</th>\n",
       "      <td>Grumpier Old Men (1995)</td>\n",
       "      <td>Comedy</td>\n",
       "      <td>Romance</td>\n",
       "      <td>None</td>\n",
       "      <td>None</td>\n",
       "    </tr>\n",
       "    <tr>\n",
       "      <th>4</th>\n",
       "      <td>Waiting to Exhale (1995)</td>\n",
       "      <td>Comedy</td>\n",
       "      <td>Drama</td>\n",
       "      <td>None</td>\n",
       "      <td>None</td>\n",
       "    </tr>\n",
       "    <tr>\n",
       "      <th>5</th>\n",
       "      <td>Father of the Bride Part II (1995)</td>\n",
       "      <td>Comedy</td>\n",
       "      <td>None</td>\n",
       "      <td>None</td>\n",
       "      <td>None</td>\n",
       "    </tr>\n",
       "  </tbody>\n",
       "</table>\n",
       "</div>"
      ],
      "text/plain": [
       "                            TitleYear     Genre1      Genre2   Genre3 Genre4\n",
       "1                    Toy Story (1995)  Animation  Children's   Comedy   None\n",
       "2                      Jumanji (1995)  Adventure  Children's  Fantasy   None\n",
       "3             Grumpier Old Men (1995)     Comedy     Romance     None   None\n",
       "4            Waiting to Exhale (1995)     Comedy       Drama     None   None\n",
       "5  Father of the Bride Part II (1995)     Comedy        None     None   None"
      ]
     },
     "execution_count": 70,
     "metadata": {},
     "output_type": "execute_result"
    }
   ],
   "source": [
    "# importing libraries\n",
    "import numpy as np\n",
    "import pandas as pd\n",
    "import matplotlib.pyplot as plt\n",
    "import seaborn as sns\n",
    "import warnings\n",
    "\n",
    "warnings.filterwarnings('ignore')\n",
    "\n",
    "movies = pd.read_csv(\"https://raw.githubusercontent.com/IT-Academy-BCN/Data-Science/main/Pre-processing-data/movies.dat\",\n",
    "sep='::', encoding = 'ISO-8859-1', index_col=0, names=['TitleYear','Genres'], engine='python')\n",
    "\n",
    "movies.dataframeName = 'movies.csv'\n",
    "\n",
    "movies.dropna(inplace = True) \n",
    "new = movies[\"Genres\"].str.split(\"|\", n = 3, expand = True)\n",
    "movies[\"Genre1\"]=new[0]\n",
    "movies[\"Genre2\"]=new[1]\n",
    "movies[\"Genre3\"]=new[2]\n",
    "movies[\"Genre4\"]=new[3]\n",
    "movies.drop(columns =[\"Genres\"], inplace = True) \n",
    "movies.head()"
   ]
  },
  {
   "cell_type": "code",
   "execution_count": 71,
   "id": "f00cf112",
   "metadata": {},
   "outputs": [
    {
     "data": {
      "text/plain": [
       "(3883, 5)"
      ]
     },
     "execution_count": 71,
     "metadata": {},
     "output_type": "execute_result"
    }
   ],
   "source": [
    "movies.shape"
   ]
  },
  {
   "cell_type": "code",
   "execution_count": 72,
   "id": "20c657d6",
   "metadata": {},
   "outputs": [
    {
     "data": {
      "text/plain": [
       "2"
      ]
     },
     "execution_count": 72,
     "metadata": {},
     "output_type": "execute_result"
    }
   ],
   "source": [
    "movies.ndim"
   ]
  },
  {
   "cell_type": "code",
   "execution_count": 73,
   "id": "e687a7ce",
   "metadata": {},
   "outputs": [
    {
     "data": {
      "text/plain": [
       "Index(['TitleYear', 'Genre1', 'Genre2', 'Genre3', 'Genre4'], dtype='object')"
      ]
     },
     "execution_count": 73,
     "metadata": {},
     "output_type": "execute_result"
    }
   ],
   "source": [
    "movies.columns"
   ]
  },
  {
   "cell_type": "code",
   "execution_count": 74,
   "id": "6e81cd2a",
   "metadata": {},
   "outputs": [
    {
     "data": {
      "text/plain": [
       "TitleYear    object\n",
       "Genre1       object\n",
       "Genre2       object\n",
       "Genre3       object\n",
       "Genre4       object\n",
       "dtype: object"
      ]
     },
     "execution_count": 74,
     "metadata": {},
     "output_type": "execute_result"
    }
   ],
   "source": [
    "movies.dtypes"
   ]
  },
  {
   "cell_type": "code",
   "execution_count": 75,
   "id": "49e0e9fc",
   "metadata": {},
   "outputs": [
    {
     "data": {
      "text/html": [
       "<div>\n",
       "<style scoped>\n",
       "    .dataframe tbody tr th:only-of-type {\n",
       "        vertical-align: middle;\n",
       "    }\n",
       "\n",
       "    .dataframe tbody tr th {\n",
       "        vertical-align: top;\n",
       "    }\n",
       "\n",
       "    .dataframe thead th {\n",
       "        text-align: right;\n",
       "    }\n",
       "</style>\n",
       "<table border=\"1\" class=\"dataframe\">\n",
       "  <thead>\n",
       "    <tr style=\"text-align: right;\">\n",
       "      <th></th>\n",
       "      <th>TitleYear</th>\n",
       "      <th>Genre1</th>\n",
       "      <th>Genre2</th>\n",
       "      <th>Genre3</th>\n",
       "      <th>Genre4</th>\n",
       "    </tr>\n",
       "  </thead>\n",
       "  <tbody>\n",
       "    <tr>\n",
       "      <th>count</th>\n",
       "      <td>3883</td>\n",
       "      <td>3883</td>\n",
       "      <td>1858</td>\n",
       "      <td>536</td>\n",
       "      <td>115</td>\n",
       "    </tr>\n",
       "    <tr>\n",
       "      <th>unique</th>\n",
       "      <td>3883</td>\n",
       "      <td>18</td>\n",
       "      <td>17</td>\n",
       "      <td>15</td>\n",
       "      <td>24</td>\n",
       "    </tr>\n",
       "    <tr>\n",
       "      <th>top</th>\n",
       "      <td>Toy Story (1995)</td>\n",
       "      <td>Drama</td>\n",
       "      <td>Drama</td>\n",
       "      <td>Thriller</td>\n",
       "      <td>Thriller</td>\n",
       "    </tr>\n",
       "    <tr>\n",
       "      <th>freq</th>\n",
       "      <td>1</td>\n",
       "      <td>1176</td>\n",
       "      <td>381</td>\n",
       "      <td>120</td>\n",
       "      <td>39</td>\n",
       "    </tr>\n",
       "  </tbody>\n",
       "</table>\n",
       "</div>"
      ],
      "text/plain": [
       "               TitleYear Genre1 Genre2    Genre3    Genre4\n",
       "count               3883   3883   1858       536       115\n",
       "unique              3883     18     17        15        24\n",
       "top     Toy Story (1995)  Drama  Drama  Thriller  Thriller\n",
       "freq                   1   1176    381       120        39"
      ]
     },
     "execution_count": 75,
     "metadata": {},
     "output_type": "execute_result"
    }
   ],
   "source": [
    "movies.describe()"
   ]
  },
  {
   "cell_type": "code",
   "execution_count": 76,
   "id": "08d9ddc8",
   "metadata": {},
   "outputs": [
    {
     "data": {
      "text/html": [
       "<div>\n",
       "<style scoped>\n",
       "    .dataframe tbody tr th:only-of-type {\n",
       "        vertical-align: middle;\n",
       "    }\n",
       "\n",
       "    .dataframe tbody tr th {\n",
       "        vertical-align: top;\n",
       "    }\n",
       "\n",
       "    .dataframe thead th {\n",
       "        text-align: right;\n",
       "    }\n",
       "</style>\n",
       "<table border=\"1\" class=\"dataframe\">\n",
       "  <thead>\n",
       "    <tr style=\"text-align: right;\">\n",
       "      <th></th>\n",
       "      <th>TitleYear</th>\n",
       "      <th>Genre1</th>\n",
       "      <th>Genre2</th>\n",
       "      <th>Genre3</th>\n",
       "      <th>Genre4</th>\n",
       "    </tr>\n",
       "  </thead>\n",
       "  <tbody>\n",
       "    <tr>\n",
       "      <th>count</th>\n",
       "      <td>3883</td>\n",
       "      <td>3883</td>\n",
       "      <td>1858</td>\n",
       "      <td>536</td>\n",
       "      <td>115</td>\n",
       "    </tr>\n",
       "    <tr>\n",
       "      <th>unique</th>\n",
       "      <td>3883</td>\n",
       "      <td>18</td>\n",
       "      <td>17</td>\n",
       "      <td>15</td>\n",
       "      <td>24</td>\n",
       "    </tr>\n",
       "    <tr>\n",
       "      <th>top</th>\n",
       "      <td>Toy Story (1995)</td>\n",
       "      <td>Drama</td>\n",
       "      <td>Drama</td>\n",
       "      <td>Thriller</td>\n",
       "      <td>Thriller</td>\n",
       "    </tr>\n",
       "    <tr>\n",
       "      <th>freq</th>\n",
       "      <td>1</td>\n",
       "      <td>1176</td>\n",
       "      <td>381</td>\n",
       "      <td>120</td>\n",
       "      <td>39</td>\n",
       "    </tr>\n",
       "  </tbody>\n",
       "</table>\n",
       "</div>"
      ],
      "text/plain": [
       "               TitleYear Genre1 Genre2    Genre3    Genre4\n",
       "count               3883   3883   1858       536       115\n",
       "unique              3883     18     17        15        24\n",
       "top     Toy Story (1995)  Drama  Drama  Thriller  Thriller\n",
       "freq                   1   1176    381       120        39"
      ]
     },
     "execution_count": 76,
     "metadata": {},
     "output_type": "execute_result"
    }
   ],
   "source": [
    "round(movies.describe(include='all'), 3)"
   ]
  },
  {
   "cell_type": "code",
   "execution_count": 77,
   "id": "5ab1676b",
   "metadata": {},
   "outputs": [
    {
     "data": {
      "text/plain": [
       "TitleYear    0.000000\n",
       "Genre1       0.000000\n",
       "Genre2       0.521504\n",
       "Genre3       0.861962\n",
       "Genre4       0.970384\n",
       "dtype: float64"
      ]
     },
     "execution_count": 77,
     "metadata": {},
     "output_type": "execute_result"
    }
   ],
   "source": [
    "movies.isnull().sum()/len(movies)"
   ]
  },
  {
   "cell_type": "code",
   "execution_count": 78,
   "id": "d1dbd75e",
   "metadata": {},
   "outputs": [
    {
     "data": {
      "text/plain": [
       "array(['Toy Story (1995)', 'Jumanji (1995)', 'Grumpier Old Men (1995)',\n",
       "       ..., 'Tigerland (2000)', 'Two Family House (2000)',\n",
       "       'Contender, The (2000)'], dtype=object)"
      ]
     },
     "execution_count": 78,
     "metadata": {},
     "output_type": "execute_result"
    }
   ],
   "source": [
    "movies.TitleYear.unique()"
   ]
  },
  {
   "cell_type": "code",
   "execution_count": 79,
   "id": "e50c7f70",
   "metadata": {},
   "outputs": [
    {
     "data": {
      "text/plain": [
       "3883"
      ]
     },
     "execution_count": 79,
     "metadata": {},
     "output_type": "execute_result"
    }
   ],
   "source": [
    "movies.TitleYear.nunique()"
   ]
  },
  {
   "cell_type": "code",
   "execution_count": 84,
   "id": "59b7fc07",
   "metadata": {},
   "outputs": [
    {
     "data": {
      "image/png": "[encoded data removed]",
      "text/plain": [
       "<Figure size 1080x576 with 1 Axes>"
      ]
     },
     "metadata": {
      "needs_background": "light"
     },
     "output_type": "display_data"
    }
   ],
   "source": [
    "genresByTitleYear = movies[['Genre1', 'TitleYear']]\n",
    "genresByTitleYear = genresByTitleYear.groupby(by='Genre1').count()\n",
    "genresByTitleYear.head()\n",
    "plt.figure(figsize=(15,8))\n",
    "plt.grid(True)\n",
    "sns.lineplot(x=\"Genre1\", y=\"TitleYear\", data=genresByTitleYear, palette=\"Set1\", linewidth=1)\n",
    "#plt.savefig(\"genresByTitleYear.png\")\n",
    "plt.show()"
   ]
  },
  {
   "cell_type": "code",
   "execution_count": 103,
   "id": "d001205f",
   "metadata": {},
   "outputs": [
    {
     "data": {
      "text/plain": [
       "count      18.000\n",
       "mean      215.722\n",
       "std       343.553\n",
       "min         2.000\n",
       "25%        33.750\n",
       "50%        89.500\n",
       "75%       149.000\n",
       "max      1176.000\n",
       "Name: TitleYear, dtype: float64"
      ]
     },
     "execution_count": 103,
     "metadata": {},
     "output_type": "execute_result"
    }
   ],
   "source": [
    "round((genresByTitleYear['TitleYear']).describe(), 3)"
   ]
  },
  {
   "cell_type": "code",
   "execution_count": 102,
   "id": "38d9c1fc",
   "metadata": {},
   "outputs": [
    {
     "data": {
      "text/plain": [
       "215.722"
      ]
     },
     "execution_count": 102,
     "metadata": {},
     "output_type": "execute_result"
    }
   ],
   "source": [
    "genresByTitleYear.TitleYear.mean().round(3)"
   ]
  },
  {
   "cell_type": "code",
   "execution_count": 107,
   "id": "4a91911c",
   "metadata": {},
   "outputs": [
    {
     "data": {
      "text/plain": [
       "-127.831"
      ]
     },
     "execution_count": 107,
     "metadata": {},
     "output_type": "execute_result"
    }
   ],
   "source": [
    "(genresByTitleYear.TitleYear.mean() - genresByTitleYear.TitleYear.std()).round(3)"
   ]
  },
  {
   "cell_type": "code",
   "execution_count": 108,
   "id": "a3eb9eff",
   "metadata": {},
   "outputs": [
    {
     "data": {
      "text/plain": [
       "Genre1\n",
       "Adventure    155\n",
       "Name: TitleYear, dtype: int64"
      ]
     },
     "execution_count": 108,
     "metadata": {},
     "output_type": "execute_result"
    }
   ],
   "source": [
    "genresByTitleYear.TitleYear.iloc[[1], ]"
   ]
  },
  {
   "cell_type": "code",
   "execution_count": 109,
   "id": "05fceba3",
   "metadata": {},
   "outputs": [
    {
     "data": {
      "text/plain": [
       "343.553"
      ]
     },
     "execution_count": 109,
     "metadata": {},
     "output_type": "execute_result"
    }
   ],
   "source": [
    "genresByTitleYear.TitleYear.std().round(3)"
   ]
  },
  {
   "cell_type": "code",
   "execution_count": 110,
   "id": "858aa907",
   "metadata": {},
   "outputs": [
    {
     "data": {
      "text/plain": [
       "Text(0.5, 0, '# Titles')"
      ]
     },
     "execution_count": 110,
     "metadata": {},
     "output_type": "execute_result"
    },
    {
     "data": {
      "image/png": "[encoded data removed]",
      "text/plain": [
       "<Figure size 432x288 with 1 Axes>"
      ]
     },
     "metadata": {
      "needs_background": "light"
     },
     "output_type": "display_data"
    }
   ],
   "source": [
    "genresByTitleYear.hist(['TitleYear'], bins=15)\n",
    "plt.title('Title Year')\n",
    "plt.ylabel('Frequency')\n",
    "plt.xlabel('# Titles')"
   ]
  },
  {
   "cell_type": "code",
   "execution_count": 111,
   "id": "420633d5",
   "metadata": {},
   "outputs": [
    {
     "data": {
      "image/png": "[encoded data removed]",
      "text/plain": [
       "<Figure size 432x288 with 1 Axes>"
      ]
     },
     "metadata": {},
     "output_type": "display_data"
    }
   ],
   "source": [
    "sns.set(style=\"whitegrid\")\n",
    "ax = sns.boxplot(x = genresByTitleYear['TitleYear'], color='lightblue', fliersize=5, orient='v', linewidth=1, width=0.3)"
   ]
  },
  {
   "cell_type": "code",
   "execution_count": 112,
   "id": "e8ce16c3",
   "metadata": {},
   "outputs": [
    {
     "data": {
      "image/png": "[encoded data removed]",
      "text/plain": [
       "<Figure size 432x288 with 1 Axes>"
      ]
     },
     "metadata": {},
     "output_type": "display_data"
    }
   ],
   "source": [
    "ax = sns.boxplot(y=\"TitleYear\", data=genresByTitleYear,  color='lightblue', fliersize=5,  orient='v', linewidth=1 , width=0.3)\n",
    "ax = sns.stripplot(y=genresByTitleYear[\"TitleYear\"], orient='v', color='darkblue', alpha= 0.5)"
   ]
  },
  {
   "cell_type": "code",
   "execution_count": 114,
   "id": "a58744d4",
   "metadata": {},
   "outputs": [
    {
     "data": {
      "image/png": "[encoded data removed]",
      "text/plain": [
       "<Figure size 432x288 with 1 Axes>"
      ]
     },
     "metadata": {},
     "output_type": "display_data"
    }
   ],
   "source": [
    "sns.boxplot(y=\"TitleYear\", data=genresByTitleYear[genresByTitleYear.TitleYear < 100],  color='lightblue', fliersize=5,  orient='v', linewidth=1 , width=0.3);"
   ]
  },
  {
   "cell_type": "code",
   "execution_count": 120,
   "id": "0c9850d0",
   "metadata": {},
   "outputs": [
    {
     "ename": "ValueError",
     "evalue": "Could not interpret input 'Genre2'",
     "output_type": "error",
     "traceback": [
      "\u001b[1;31m---------------------------------------------------------------------------\u001b[0m",
      "\u001b[1;31mValueError\u001b[0m                                Traceback (most recent call last)",
      "Input \u001b[1;32mIn [120]\u001b[0m, in \u001b[0;36m<cell line: 2>\u001b[1;34m()\u001b[0m\n\u001b[0;32m      1\u001b[0m \u001b[38;5;66;03m## añadimos variable categorica 'day' en x:\u001b[39;00m\n\u001b[1;32m----> 2\u001b[0m ax \u001b[38;5;241m=\u001b[39m \u001b[43msns\u001b[49m\u001b[38;5;241;43m.\u001b[39;49m\u001b[43mcatplot\u001b[49m\u001b[43m(\u001b[49m\u001b[43mx\u001b[49m\u001b[38;5;241;43m=\u001b[39;49m\u001b[38;5;124;43m'\u001b[39;49m\u001b[38;5;124;43mGenre2\u001b[39;49m\u001b[38;5;124;43m'\u001b[39;49m\u001b[43m,\u001b[49m\u001b[43m \u001b[49m\u001b[43my\u001b[49m\u001b[38;5;241;43m=\u001b[39;49m\u001b[38;5;124;43m'\u001b[39;49m\u001b[38;5;124;43mTitleYear\u001b[39;49m\u001b[38;5;124;43m'\u001b[39;49m\u001b[43m,\u001b[49m\u001b[43m \u001b[49m\u001b[43mkind\u001b[49m\u001b[38;5;241;43m=\u001b[39;49m\u001b[38;5;124;43m'\u001b[39;49m\u001b[38;5;124;43mbox\u001b[39;49m\u001b[38;5;124;43m'\u001b[39;49m\u001b[43m,\u001b[49m\n\u001b[0;32m      3\u001b[0m \u001b[43m                 \u001b[49m\u001b[43mdata\u001b[49m\u001b[38;5;241;43m=\u001b[39;49m\u001b[43mgenresByTitleYear\u001b[49m\u001b[43m[\u001b[49m\u001b[43mgenresByTitleYear\u001b[49m\u001b[38;5;241;43m.\u001b[39;49m\u001b[43mTitleYear\u001b[49m\u001b[43m \u001b[49m\u001b[38;5;241;43m<\u001b[39;49m\u001b[43m \u001b[49m\u001b[38;5;241;43m245\u001b[39;49m\u001b[43m]\u001b[49m\u001b[43m)\u001b[49m\n",
      "File \u001b[1;32m~\\anaconda3\\envs\\ItAcademy\\lib\\site-packages\\seaborn\\_decorators.py:46\u001b[0m, in \u001b[0;36m_deprecate_positional_args.<locals>.inner_f\u001b[1;34m(*args, **kwargs)\u001b[0m\n\u001b[0;32m     36\u001b[0m     warnings\u001b[38;5;241m.\u001b[39mwarn(\n\u001b[0;32m     37\u001b[0m         \u001b[38;5;124m\"\u001b[39m\u001b[38;5;124mPass the following variable\u001b[39m\u001b[38;5;132;01m{}\u001b[39;00m\u001b[38;5;124m as \u001b[39m\u001b[38;5;132;01m{}\u001b[39;00m\u001b[38;5;124mkeyword arg\u001b[39m\u001b[38;5;132;01m{}\u001b[39;00m\u001b[38;5;124m: \u001b[39m\u001b[38;5;132;01m{}\u001b[39;00m\u001b[38;5;124m. \u001b[39m\u001b[38;5;124m\"\u001b[39m\n\u001b[0;32m     38\u001b[0m         \u001b[38;5;124m\"\u001b[39m\u001b[38;5;124mFrom version 0.12, the only valid positional argument \u001b[39m\u001b[38;5;124m\"\u001b[39m\n\u001b[1;32m   (...)\u001b[0m\n\u001b[0;32m     43\u001b[0m         \u001b[38;5;167;01mFutureWarning\u001b[39;00m\n\u001b[0;32m     44\u001b[0m     )\n\u001b[0;32m     45\u001b[0m kwargs\u001b[38;5;241m.\u001b[39mupdate({k: arg \u001b[38;5;28;01mfor\u001b[39;00m k, arg \u001b[38;5;129;01min\u001b[39;00m \u001b[38;5;28mzip\u001b[39m(sig\u001b[38;5;241m.\u001b[39mparameters, args)})\n\u001b[1;32m---> 46\u001b[0m \u001b[38;5;28;01mreturn\u001b[39;00m f(\u001b[38;5;241m*\u001b[39m\u001b[38;5;241m*\u001b[39mkwargs)\n",
      "File \u001b[1;32m~\\anaconda3\\envs\\ItAcademy\\lib\\site-packages\\seaborn\\categorical.py:3792\u001b[0m, in \u001b[0;36mcatplot\u001b[1;34m(x, y, hue, data, row, col, col_wrap, estimator, ci, n_boot, units, seed, order, hue_order, row_order, col_order, kind, height, aspect, orient, color, palette, legend, legend_out, sharex, sharey, margin_titles, facet_kws, **kwargs)\u001b[0m\n\u001b[0;32m   3790\u001b[0m p \u001b[38;5;241m=\u001b[39m _CategoricalPlotter()\n\u001b[0;32m   3791\u001b[0m p\u001b[38;5;241m.\u001b[39mrequire_numeric \u001b[38;5;241m=\u001b[39m plotter_class\u001b[38;5;241m.\u001b[39mrequire_numeric\n\u001b[1;32m-> 3792\u001b[0m \u001b[43mp\u001b[49m\u001b[38;5;241;43m.\u001b[39;49m\u001b[43mestablish_variables\u001b[49m\u001b[43m(\u001b[49m\u001b[43mx_\u001b[49m\u001b[43m,\u001b[49m\u001b[43m \u001b[49m\u001b[43my_\u001b[49m\u001b[43m,\u001b[49m\u001b[43m \u001b[49m\u001b[43mhue\u001b[49m\u001b[43m,\u001b[49m\u001b[43m \u001b[49m\u001b[43mdata\u001b[49m\u001b[43m,\u001b[49m\u001b[43m \u001b[49m\u001b[43morient\u001b[49m\u001b[43m,\u001b[49m\u001b[43m \u001b[49m\u001b[43morder\u001b[49m\u001b[43m,\u001b[49m\u001b[43m \u001b[49m\u001b[43mhue_order\u001b[49m\u001b[43m)\u001b[49m\n\u001b[0;32m   3793\u001b[0m \u001b[38;5;28;01mif\u001b[39;00m (\n\u001b[0;32m   3794\u001b[0m     order \u001b[38;5;129;01mis\u001b[39;00m \u001b[38;5;129;01mnot\u001b[39;00m \u001b[38;5;28;01mNone\u001b[39;00m\n\u001b[0;32m   3795\u001b[0m     \u001b[38;5;129;01mor\u001b[39;00m (sharex \u001b[38;5;129;01mand\u001b[39;00m p\u001b[38;5;241m.\u001b[39morient \u001b[38;5;241m==\u001b[39m \u001b[38;5;124m\"\u001b[39m\u001b[38;5;124mv\u001b[39m\u001b[38;5;124m\"\u001b[39m)\n\u001b[0;32m   3796\u001b[0m     \u001b[38;5;129;01mor\u001b[39;00m (sharey \u001b[38;5;129;01mand\u001b[39;00m p\u001b[38;5;241m.\u001b[39morient \u001b[38;5;241m==\u001b[39m \u001b[38;5;124m\"\u001b[39m\u001b[38;5;124mh\u001b[39m\u001b[38;5;124m\"\u001b[39m)\n\u001b[0;32m   3797\u001b[0m ):\n\u001b[0;32m   3798\u001b[0m     \u001b[38;5;66;03m# Sync categorical axis between facets to have the same categories\u001b[39;00m\n\u001b[0;32m   3799\u001b[0m     order \u001b[38;5;241m=\u001b[39m p\u001b[38;5;241m.\u001b[39mgroup_names\n",
      "File \u001b[1;32m~\\anaconda3\\envs\\ItAcademy\\lib\\site-packages\\seaborn\\categorical.py:153\u001b[0m, in \u001b[0;36m_CategoricalPlotter.establish_variables\u001b[1;34m(self, x, y, hue, data, orient, order, hue_order, units)\u001b[0m\n\u001b[0;32m    151\u001b[0m     \u001b[38;5;28;01mif\u001b[39;00m \u001b[38;5;28misinstance\u001b[39m(var, \u001b[38;5;28mstr\u001b[39m):\n\u001b[0;32m    152\u001b[0m         err \u001b[38;5;241m=\u001b[39m \u001b[38;5;124m\"\u001b[39m\u001b[38;5;124mCould not interpret input \u001b[39m\u001b[38;5;124m'\u001b[39m\u001b[38;5;132;01m{}\u001b[39;00m\u001b[38;5;124m'\u001b[39m\u001b[38;5;124m\"\u001b[39m\u001b[38;5;241m.\u001b[39mformat(var)\n\u001b[1;32m--> 153\u001b[0m         \u001b[38;5;28;01mraise\u001b[39;00m \u001b[38;5;167;01mValueError\u001b[39;00m(err)\n\u001b[0;32m    155\u001b[0m \u001b[38;5;66;03m# Figure out the plotting orientation\u001b[39;00m\n\u001b[0;32m    156\u001b[0m orient \u001b[38;5;241m=\u001b[39m infer_orient(\n\u001b[0;32m    157\u001b[0m     x, y, orient, require_numeric\u001b[38;5;241m=\u001b[39m\u001b[38;5;28mself\u001b[39m\u001b[38;5;241m.\u001b[39mrequire_numeric\n\u001b[0;32m    158\u001b[0m )\n",
      "\u001b[1;31mValueError\u001b[0m: Could not interpret input 'Genre2'"
     ]
    }
   ],
   "source": [
    "## añadimos variable categorica 'day' en x:\n",
    "ax = sns.catplot(x='Genre1', y='TitleYear', kind='box',\n",
    "                 data=genresByTitleYear[genresByTitleYear.TitleYear < 245]);"
   ]
  },
  {
   "cell_type": "code",
   "execution_count": null,
   "id": "dead4332",
   "metadata": {},
   "outputs": [],
   "source": [
    "## añadimos variable categorica 'day' en x:\n",
    "ax = sns.catplot(x='Genre1', y='TitleYear', kind='box',\n",
    "                 data=tips[tips.tip_pct < 245]);\n",
    "\n",
    "ax = sns.stripplot(x='Genre1', y='TitleYear', data=tips[tips.TitleYear < 245], orient='v', color='darkblue', alpha= 0.4);"
   ]
  },
  {
   "cell_type": "markdown",
   "id": "eb6f1b8c",
   "metadata": {},
   "source": [
    "## Nivell 3 ##"
   ]
  },
  {
   "cell_type": "markdown",
   "id": "621e6f64",
   "metadata": {},
   "source": [
    "### - Exercici 3 ###"
   ]
  },
  {
   "cell_type": "markdown",
   "id": "a3e1ef19",
   "metadata": {},
   "source": [
    "En aquest exercici no us donarem gaires indicacions perquè volem que ens mostreu la vostra creativitat. Sorprèn-me amb gràfiques i interpretacions del dataset \"movies.dat\" del exercici anterior."
   ]
  },
  {
   "cell_type": "code",
   "execution_count": null,
   "id": "b10898df",
   "metadata": {},
   "outputs": [],
   "source": []
  }
 ],
 "metadata": {
  "kernelspec": {
   "display_name": "Python 3 (ipykernel)",
   "language": "python",
   "name": "python3"
  },
  "language_info": {
   "codemirror_mode": {
    "name": "ipython",
    "version": 3
   },
   "file_extension": ".py",
   "mimetype": "text/x-python",
   "name": "python",
   "nbconvert_exporter": "python",
   "pygments_lexer": "ipython3",
   "version": "3.9.12"
  },
  "latex_envs": {
   "LaTeX_envs_menu_present": true,
   "autoclose": false,
   "autocomplete": true,
   "bibliofile": "biblio.bib",
   "cite_by": "apalike",
   "current_citInitial": 1,
   "eqLabelWithNumbers": true,
   "eqNumInitial": 1,
   "hotkeys": {
    "equation": "Ctrl-E",
    "itemize": "Ctrl-I"
   },
   "labels_anchors": false,
   "latex_user_defs": false,
   "report_style_numbering": false,
   "user_envs_cfg": false
  }
 },
 "nbformat": 4,
 "nbformat_minor": 5
}
